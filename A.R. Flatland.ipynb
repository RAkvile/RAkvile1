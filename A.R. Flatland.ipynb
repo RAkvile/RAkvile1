{
  "cells": [
    {
      "cell_type": "code",
      "execution_count": 113,
      "metadata": {
        "id": "Ik7HUTIkIrRr"
      },
      "outputs": [],
      "source": [
        "import numpy as np\n",
        "from sklearn.model_selection import train_test_split\n",
        "from tensorflow import keras\n",
        "from tensorflow.keras.models import Sequential\n",
        "from tensorflow.keras.layers import Dense, Input, Flatten, Conv2D, Activation, MaxPool2D, Dropout\n",
        "\n",
        "data = np.load('flatland_train.npz')\n",
        "X = data['X']\n",
        "y = data['y']\n",
        "\n",
        "y[y != 0] -= 2 # Correct labels so that triangle is mapped to class 1   \n",
        "X = X / 255.   # Scale down to range [0, 1] "
      ]
    },
    {
      "cell_type": "code",
      "execution_count": 119,
      "metadata": {
        "id": "VIsixcA_vgUV"
      },
      "outputs": [],
      "source": [
        "#train/test split\n",
        "X_train, X_test, y_train, y_test = train_test_split(\n",
        "    X, y,\n",
        "    test_size=0.6)"
      ]
    },
    {
      "cell_type": "code",
      "execution_count": 115,
      "metadata": {
        "colab": {
          "base_uri": "https://localhost:8080/"
        },
        "id": "EGrpJAweGP14",
        "outputId": "5ff1da76-5117-41bf-a3b0-550adb457410"
      },
      "outputs": [
        {
          "output_type": "stream",
          "name": "stdout",
          "text": [
            "Model: \"sequential_59\"\n",
            "_________________________________________________________________\n",
            " Layer (type)                Output Shape              Param #   \n",
            "=================================================================\n",
            " flatten_33 (Flatten)        (None, 25000)             0         \n",
            "                                                                 \n",
            " dense_77 (Dense)            (None, 20)                500020    \n",
            "                                                                 \n",
            " dense_78 (Dense)            (None, 20)                420       \n",
            "                                                                 \n",
            " dense_79 (Dense)            (None, 20)                420       \n",
            "                                                                 \n",
            " dense_80 (Dense)            (None, 5)                 105       \n",
            "                                                                 \n",
            "=================================================================\n",
            "Total params: 500,965\n",
            "Trainable params: 500,965\n",
            "Non-trainable params: 0\n",
            "_________________________________________________________________\n"
          ]
        }
      ],
      "source": [
        "#Simple NN\n",
        "model = keras.models.Sequential()\n",
        "model.add(keras.layers.Flatten(input_shape=(10, 50, 50)))\n",
        "model.add(keras.layers.Dense(20, activation='relu'))\n",
        "model.add(keras.layers.Dense(20, activation='relu'))\n",
        "model.add(keras.layers.Dense(20, activation='relu'))\n",
        "model.add(keras.layers.Dense(5, activation='softmax'))\n",
        "\n",
        "\n",
        "model.compile(loss='sparse_categorical_crossentropy', optimizer=\"SGD\", metrics=['accuracy'])\n",
        "model.summary()\n",
        "                                                          \n",
        "                                                      "
      ]
    },
    {
      "cell_type": "code",
      "execution_count": 118,
      "metadata": {
        "colab": {
          "base_uri": "https://localhost:8080/"
        },
        "id": "dro6l3RYWjGN",
        "outputId": "5571b912-ceff-4db4-c64a-f651ac5f7a0c"
      },
      "outputs": [
        {
          "output_type": "stream",
          "name": "stdout",
          "text": [
            "Model: \"sequential_61\"\n",
            "_________________________________________________________________\n",
            " Layer (type)                Output Shape              Param #   \n",
            "=================================================================\n",
            " conv2d_104 (Conv2D)         (None, 50, 50, 32)        160       \n",
            "                                                                 \n",
            " max_pooling2d_86 (MaxPoolin  (None, 25, 25, 32)       0         \n",
            " g2D)                                                            \n",
            "                                                                 \n",
            " dropout_60 (Dropout)        (None, 25, 25, 32)        0         \n",
            "                                                                 \n",
            " conv2d_105 (Conv2D)         (None, 25, 25, 64)        18496     \n",
            "                                                                 \n",
            " max_pooling2d_87 (MaxPoolin  (None, 12, 12, 64)       0         \n",
            " g2D)                                                            \n",
            "                                                                 \n",
            " dropout_61 (Dropout)        (None, 12, 12, 64)        0         \n",
            "                                                                 \n",
            " conv2d_106 (Conv2D)         (None, 12, 12, 128)       73856     \n",
            "                                                                 \n",
            " max_pooling2d_88 (MaxPoolin  (None, 6, 6, 128)        0         \n",
            " g2D)                                                            \n",
            "                                                                 \n",
            " dropout_62 (Dropout)        (None, 6, 6, 128)         0         \n",
            "                                                                 \n",
            " conv2d_107 (Conv2D)         (None, 6, 6, 256)         295168    \n",
            "                                                                 \n",
            " max_pooling2d_89 (MaxPoolin  (None, 3, 3, 256)        0         \n",
            " g2D)                                                            \n",
            "                                                                 \n",
            " dropout_63 (Dropout)        (None, 3, 3, 256)         0         \n",
            "                                                                 \n",
            " conv2d_108 (Conv2D)         (None, 3, 3, 512)         1180160   \n",
            "                                                                 \n",
            " max_pooling2d_90 (MaxPoolin  (None, 1, 1, 512)        0         \n",
            " g2D)                                                            \n",
            "                                                                 \n",
            " dropout_64 (Dropout)        (None, 1, 1, 512)         0         \n",
            "                                                                 \n",
            " flatten_35 (Flatten)        (None, 512)               0         \n",
            "                                                                 \n",
            " dense_83 (Dense)            (None, 64)                32832     \n",
            "                                                                 \n",
            " dense_84 (Dense)            (None, 5)                 325       \n",
            "                                                                 \n",
            "=================================================================\n",
            "Total params: 1,600,997\n",
            "Trainable params: 1,600,997\n",
            "Non-trainable params: 0\n",
            "_________________________________________________________________\n"
          ]
        }
      ],
      "source": [
        "#CNN\n",
        "model = keras.models.Sequential()\n",
        "\n",
        "model.add(keras.layers.Conv2D(32, kernel_size=(2, 2), activation='relu', padding = 'same', input_shape=(50, 50,1)))\n",
        "model.add(MaxPool2D(pool_size=(2, 2)))\n",
        "model.add(Dropout(0.5))\n",
        "\n",
        "model.add(keras.layers.Conv2D(64, kernel_size=(3, 3), activation='relu', padding = 'same'))\n",
        "model.add(MaxPool2D(pool_size=(2, 2)))\n",
        "model.add(Dropout(0.5))\n",
        "\n",
        "model.add(keras.layers.Conv2D(128, kernel_size=(3, 3), activation='relu', padding = 'same'))\n",
        "model.add(MaxPool2D(pool_size=(2, 2)))\n",
        "model.add(Dropout(0.5))\n",
        "\n",
        "model.add(keras.layers.Conv2D(256, kernel_size=(3, 3), activation='relu', padding = 'same'))\n",
        "model.add(MaxPool2D(pool_size=(2, 2)))\n",
        "model.add(Dropout(0.5))\n",
        "\n",
        "model.add(keras.layers.Conv2D(512, kernel_size=(3, 3), activation='relu', padding = 'same'))\n",
        "model.add(MaxPool2D(pool_size=(2, 2)))\n",
        "model.add(Dropout(0.5))\n",
        "\n",
        "model.add(keras.layers.Flatten())\n",
        "model.add(keras.layers.Dense(64, activation='relu'))\n",
        "model.add(keras.layers.Dense(5, activation='softmax'))\n",
        "\n",
        "\n",
        "model.compile(optimizer='adam', loss='sparse_categorical_crossentropy',metrics=['accuracy'])\n",
        "model.summary()"
      ]
    },
    {
      "cell_type": "code",
      "execution_count": 120,
      "metadata": {
        "colab": {
          "base_uri": "https://localhost:8080/"
        },
        "id": "xTcXRU9BQTZv",
        "outputId": "55ee7cb7-ba65-466a-d349-36499d37aec2"
      },
      "outputs": [
        {
          "output_type": "stream",
          "name": "stdout",
          "text": [
            "Epoch 1/20\n",
            "125/125 [==============================] - 58s 462ms/step - loss: 1.5038 - accuracy: 0.3325 - val_loss: 1.6638 - val_accuracy: 0.2888\n",
            "Epoch 2/20\n",
            "125/125 [==============================] - 58s 466ms/step - loss: 1.2545 - accuracy: 0.4633 - val_loss: 1.2425 - val_accuracy: 0.4633\n",
            "Epoch 3/20\n",
            "125/125 [==============================] - 57s 455ms/step - loss: 1.1119 - accuracy: 0.5242 - val_loss: 1.1303 - val_accuracy: 0.4833\n",
            "Epoch 4/20\n",
            "125/125 [==============================] - 58s 465ms/step - loss: 0.8754 - accuracy: 0.6350 - val_loss: 0.7289 - val_accuracy: 0.7238\n",
            "Epoch 5/20\n",
            "125/125 [==============================] - 58s 467ms/step - loss: 0.6830 - accuracy: 0.7340 - val_loss: 0.5058 - val_accuracy: 0.8913\n",
            "Epoch 6/20\n",
            "125/125 [==============================] - 58s 461ms/step - loss: 0.5322 - accuracy: 0.7960 - val_loss: 0.3220 - val_accuracy: 0.9473\n",
            "Epoch 7/20\n",
            "125/125 [==============================] - 57s 460ms/step - loss: 0.4842 - accuracy: 0.8267 - val_loss: 0.2862 - val_accuracy: 0.9530\n",
            "Epoch 8/20\n",
            "125/125 [==============================] - 58s 465ms/step - loss: 0.3803 - accuracy: 0.8745 - val_loss: 0.2487 - val_accuracy: 0.9542\n",
            "Epoch 9/20\n",
            "125/125 [==============================] - 57s 458ms/step - loss: 0.3312 - accuracy: 0.8920 - val_loss: 0.1987 - val_accuracy: 0.9732\n",
            "Epoch 10/20\n",
            "125/125 [==============================] - 57s 456ms/step - loss: 0.2856 - accuracy: 0.9145 - val_loss: 0.2268 - val_accuracy: 0.9515\n",
            "Epoch 11/20\n",
            "125/125 [==============================] - 58s 466ms/step - loss: 0.2808 - accuracy: 0.9170 - val_loss: 0.1706 - val_accuracy: 0.9768\n",
            "Epoch 12/20\n",
            "125/125 [==============================] - 57s 456ms/step - loss: 0.2619 - accuracy: 0.9283 - val_loss: 0.1716 - val_accuracy: 0.9758\n",
            "Epoch 13/20\n",
            "125/125 [==============================] - 57s 457ms/step - loss: 0.2343 - accuracy: 0.9377 - val_loss: 0.1557 - val_accuracy: 0.9813\n",
            "Epoch 14/20\n",
            "125/125 [==============================] - 57s 459ms/step - loss: 0.2245 - accuracy: 0.9365 - val_loss: 0.1661 - val_accuracy: 0.9762\n",
            "Epoch 15/20\n",
            "125/125 [==============================] - 59s 469ms/step - loss: 0.2074 - accuracy: 0.9475 - val_loss: 0.1710 - val_accuracy: 0.9682\n",
            "Epoch 16/20\n",
            "125/125 [==============================] - 58s 461ms/step - loss: 0.2075 - accuracy: 0.9455 - val_loss: 0.1461 - val_accuracy: 0.9837\n",
            "Epoch 17/20\n",
            "125/125 [==============================] - 57s 459ms/step - loss: 0.1797 - accuracy: 0.9557 - val_loss: 0.1509 - val_accuracy: 0.9768\n",
            "Epoch 18/20\n",
            "125/125 [==============================] - 58s 469ms/step - loss: 0.1788 - accuracy: 0.9555 - val_loss: 0.1391 - val_accuracy: 0.9835\n",
            "Epoch 19/20\n",
            "125/125 [==============================] - 58s 467ms/step - loss: 0.1737 - accuracy: 0.9570 - val_loss: 0.1371 - val_accuracy: 0.9823\n",
            "Epoch 20/20\n",
            "125/125 [==============================] - 58s 468ms/step - loss: 0.1753 - accuracy: 0.9567 - val_loss: 0.1479 - val_accuracy: 0.9800\n"
          ]
        },
        {
          "output_type": "execute_result",
          "data": {
            "text/plain": [
              "<keras.callbacks.History at 0x7efeb28fddd0>"
            ]
          },
          "metadata": {},
          "execution_count": 120
        }
      ],
      "source": [
        "model.fit(X_train, y_train, epochs=20,validation_data=(X_test,y_test))"
      ]
    },
    {
      "cell_type": "code",
      "source": [
        "model.save('model.h5')"
      ],
      "metadata": {
        "id": "C9zcYjS4cAPs"
      },
      "execution_count": 121,
      "outputs": []
    }
  ],
  "metadata": {
    "colab": {
      "provenance": []
    },
    "kernelspec": {
      "display_name": "Python 3",
      "name": "python3"
    },
    "language_info": {
      "name": "python"
    }
  },
  "nbformat": 4,
  "nbformat_minor": 0
}